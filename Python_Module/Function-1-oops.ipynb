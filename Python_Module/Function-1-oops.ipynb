{
 "cells": [
  {
   "cell_type": "code",
   "execution_count": 2,
   "id": "36786d61-1952-4bc4-9766-7c61055bd347",
   "metadata": {},
   "outputs": [],
   "source": [
    "def ageCategory():    \n",
    "    if(age<18):\n",
    "        print(\"children\")\n",
    "        cate = \"children\"\n",
    "    elif(age<35):\n",
    "        print(\"Adult\")\n",
    "        cate = \"Adult\"\n",
    "    elif(age<59):\n",
    "        print(\"citizen\")\n",
    "        cate = \"citizen\"\n",
    "    else:\n",
    "        print(\"senior citizen\")\n",
    "        cate = \"senior citizen\"\n",
    "    return cate"
   ]
  },
  {
   "cell_type": "code",
   "execution_count": 3,
   "id": "12a1932c-2efc-4de1-af67-c51f578b375a",
   "metadata": {},
   "outputs": [
    {
     "name": "stdin",
     "output_type": "stream",
     "text": [
      "enter the age 25\n"
     ]
    },
    {
     "name": "stdout",
     "output_type": "stream",
     "text": [
      "Adult\n"
     ]
    }
   ],
   "source": [
    "age = int(input(\"enter the age\"))\n",
    "ageCate = ageCategory()"
   ]
  },
  {
   "cell_type": "code",
   "execution_count": 4,
   "id": "661b4012-a88b-454e-bdc3-fdc0d052ced5",
   "metadata": {},
   "outputs": [
    {
     "name": "stdout",
     "output_type": "stream",
     "text": [
      "Adult\n"
     ]
    }
   ],
   "source": [
    "print(ageCate)"
   ]
  },
  {
   "cell_type": "code",
   "execution_count": 5,
   "id": "342550e4-7ab4-4f8e-8b98-c0680fd478cc",
   "metadata": {},
   "outputs": [],
   "source": [
    "def ageCategoryNoReturn():    \n",
    "    if(age<18):\n",
    "        print(\"children\")\n",
    "        cate = \"children\"\n",
    "    elif(age<35):\n",
    "        print(\"Adult\")\n",
    "        cate = \"Adult\"\n",
    "    elif(age<59):\n",
    "        print(\"citizen\")\n",
    "        cate = \"citizen\"\n",
    "    else:\n",
    "        print(\"senior citizen\")\n",
    "        cate = \"senior citizen\"\n"
   ]
  },
  {
   "cell_type": "code",
   "execution_count": 6,
   "id": "d852240b-8469-46f6-8f70-0523e91a79c2",
   "metadata": {},
   "outputs": [
    {
     "name": "stdin",
     "output_type": "stream",
     "text": [
      "enter the age 10\n"
     ]
    },
    {
     "name": "stdout",
     "output_type": "stream",
     "text": [
      "children\n"
     ]
    }
   ],
   "source": [
    "age = int(input(\"enter the age\"))\n",
    "ageCate = ageCategoryNoReturn()"
   ]
  },
  {
   "cell_type": "code",
   "execution_count": 7,
   "id": "f6744006-43f9-4fbb-bc03-eed47a5acb9d",
   "metadata": {},
   "outputs": [
    {
     "name": "stdout",
     "output_type": "stream",
     "text": [
      "None\n"
     ]
    }
   ],
   "source": [
    "print(ageCate)"
   ]
  },
  {
   "cell_type": "code",
   "execution_count": 9,
   "id": "905c3ef5-ea4b-4e2e-9b89-c1f909720c2b",
   "metadata": {},
   "outputs": [],
   "source": [
    "def oddorEven():\n",
    "    num = int(input(\"enter the age\"))\n",
    "    if(num%2==1):\n",
    "        print(\"odd\")\n",
    "        message = \"Odd number\"\n",
    "    else:\n",
    "        print(\"even\")\n",
    "        message = \"Even number\"\n",
    "    return message\n",
    "        \n",
    "    "
   ]
  },
  {
   "cell_type": "code",
   "execution_count": 12,
   "id": "3d134bf7-d870-4c06-927e-46838ec2f665",
   "metadata": {},
   "outputs": [
    {
     "name": "stdin",
     "output_type": "stream",
     "text": [
      "enter the age 7\n"
     ]
    },
    {
     "name": "stdout",
     "output_type": "stream",
     "text": [
      "odd\n"
     ]
    }
   ],
   "source": [
    "message = oddorEven()"
   ]
  },
  {
   "cell_type": "code",
   "execution_count": 14,
   "id": "e2a23229-01cd-4991-941f-73fad3a64eb0",
   "metadata": {},
   "outputs": [
    {
     "name": "stdout",
     "output_type": "stream",
     "text": [
      "the given number is odd\n"
     ]
    }
   ],
   "source": [
    "if(message == \"Even number\"):\n",
    "    print(\"the given number is even\")\n",
    "else:\n",
    "    print(\"the given number is odd\")"
   ]
  },
  {
   "cell_type": "code",
   "execution_count": 16,
   "id": "956e2682-8496-497d-8761-70bcca1d96f5",
   "metadata": {},
   "outputs": [],
   "source": [
    "def addition(num1,num2):\n",
    "    add = num1+num2\n",
    "    return add"
   ]
  },
  {
   "cell_type": "code",
   "execution_count": 18,
   "id": "44f76f4a-77b0-4a4a-992e-31317c37e433",
   "metadata": {},
   "outputs": [
    {
     "data": {
      "text/plain": [
       "7"
      ]
     },
     "execution_count": 18,
     "metadata": {},
     "output_type": "execute_result"
    }
   ],
   "source": [
    "addition(2,5)"
   ]
  },
  {
   "cell_type": "code",
   "execution_count": 20,
   "id": "98500b67-7657-4bf3-92ad-114cc1a3608c",
   "metadata": {},
   "outputs": [],
   "source": [
    "class mulfunction():\n",
    "    def oddorEven():\n",
    "        num = int(input(\"enter the age\"))\n",
    "        if(num%2==1):\n",
    "            print(\"odd\")\n",
    "            message = \"Odd number\"\n",
    "        else:\n",
    "            print(\"even\")\n",
    "            message = \"Even number\"\n",
    "        return message\n",
    "    \n"
   ]
  },
  {
   "cell_type": "code",
   "execution_count": 21,
   "id": "c6beed53-db08-4ffc-9737-e8dfbf47b9c8",
   "metadata": {},
   "outputs": [
    {
     "name": "stdin",
     "output_type": "stream",
     "text": [
      "enter the age 23\n"
     ]
    },
    {
     "name": "stdout",
     "output_type": "stream",
     "text": [
      "odd\n"
     ]
    },
    {
     "data": {
      "text/plain": [
       "'Odd number'"
      ]
     },
     "execution_count": 21,
     "metadata": {},
     "output_type": "execute_result"
    }
   ],
   "source": [
    "mulfunction.oddorEven()"
   ]
  },
  {
   "cell_type": "code",
   "execution_count": null,
   "id": "9484b857-d3ac-4796-a73b-32bbed72d0c8",
   "metadata": {},
   "outputs": [],
   "source": []
  }
 ],
 "metadata": {
  "kernelspec": {
   "display_name": "Python [conda env:base] *",
   "language": "python",
   "name": "conda-base-py"
  },
  "language_info": {
   "codemirror_mode": {
    "name": "ipython",
    "version": 3
   },
   "file_extension": ".py",
   "mimetype": "text/x-python",
   "name": "python",
   "nbconvert_exporter": "python",
   "pygments_lexer": "ipython3",
   "version": "3.13.5"
  }
 },
 "nbformat": 4,
 "nbformat_minor": 5
}
