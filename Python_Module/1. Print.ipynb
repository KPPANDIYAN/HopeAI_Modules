{
 "cells": [
  {
   "cell_type": "code",
   "execution_count": 1,
   "id": "42bebaab-ab6c-4d8e-abca-79e7f4445ecf",
   "metadata": {},
   "outputs": [
    {
     "name": "stdout",
     "output_type": "stream",
     "text": [
      "\n"
     ]
    }
   ],
   "source": [
    "print()"
   ]
  },
  {
   "cell_type": "code",
   "execution_count": 2,
   "id": "6a105b3c-7a1c-405e-bb62-90ee55774de1",
   "metadata": {},
   "outputs": [
    {
     "name": "stdout",
     "output_type": "stream",
     "text": [
      "Welcome to learning AI\n"
     ]
    }
   ],
   "source": [
    "print(\"Welcome to learning AI\")"
   ]
  },
  {
   "cell_type": "code",
   "execution_count": null,
   "id": "52ee68b5-54b1-42ea-915d-b4f7b111d9c4",
   "metadata": {},
   "outputs": [],
   "source": []
  }
 ],
 "metadata": {
  "kernelspec": {
   "display_name": "Python [conda env:base] *",
   "language": "python",
   "name": "conda-base-py"
  },
  "language_info": {
   "codemirror_mode": {
    "name": "ipython",
    "version": 3
   },
   "file_extension": ".py",
   "mimetype": "text/x-python",
   "name": "python",
   "nbconvert_exporter": "python",
   "pygments_lexer": "ipython3",
   "version": "3.13.5"
  }
 },
 "nbformat": 4,
 "nbformat_minor": 5
}
