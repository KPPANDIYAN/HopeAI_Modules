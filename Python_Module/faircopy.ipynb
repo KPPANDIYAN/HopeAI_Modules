{
 "cells": [
  {
   "cell_type": "code",
   "execution_count": 17,
   "id": "e7c8d38b-3ee6-4862-90bc-daee3597aaa0",
   "metadata": {},
   "outputs": [],
   "source": [
    "from myutils import Multiplefunctions\n",
    "#import myutils\n",
    "#print(dir(myutils))\n",
    "#from filename import classname"
   ]
  },
  {
   "cell_type": "code",
   "execution_count": null,
   "id": "439855cd-d241-47b8-911e-746601f5f684",
   "metadata": {},
   "outputs": [],
   "source": []
  }
 ],
 "metadata": {
  "kernelspec": {
   "display_name": "Python [conda env:base] *",
   "language": "python",
   "name": "conda-base-py"
  },
  "language_info": {
   "codemirror_mode": {
    "name": "ipython",
    "version": 3
   },
   "file_extension": ".py",
   "mimetype": "text/x-python",
   "name": "python",
   "nbconvert_exporter": "python",
   "pygments_lexer": "ipython3",
   "version": "3.13.5"
  }
 },
 "nbformat": 4,
 "nbformat_minor": 5
}
