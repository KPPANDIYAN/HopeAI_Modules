{
 "cells": [
  {
   "cell_type": "code",
   "execution_count": 32,
   "id": "5b2c0003-ae58-4e2c-bfad-11bf8bb5c803",
   "metadata": {},
   "outputs": [],
   "source": [
    "def subFields():\n",
    "    ai_Fields=[\"Machine Learning\",\"Neural Networks\",\"Vision\",\"Robotics\",\"Speech Processing\",\"Natural Language Processing\"]\n",
    "    for field in ai_Fields:\n",
    "        print(field)\n"
   ]
  },
  {
   "cell_type": "code",
   "execution_count": 33,
   "id": "41651656-de82-43bc-9e72-6bfae667471f",
   "metadata": {},
   "outputs": [
    {
     "name": "stdout",
     "output_type": "stream",
     "text": [
      "Machine Learning\n",
      "Neural Networks\n",
      "Vision\n",
      "Robotics\n",
      "Speech Processing\n",
      "Natural Language Processing\n"
     ]
    }
   ],
   "source": [
    "subFields()"
   ]
  },
  {
   "cell_type": "code",
   "execution_count": 42,
   "id": "3be149bc-5dbc-4965-b89e-496ab8eaefd9",
   "metadata": {},
   "outputs": [],
   "source": [
    "def numcheck():\n",
    "    num = int(input(\"Enter the number\"))\n",
    "    result = \"Number is even\" if num%2==0 else \"Number is odd\"\n",
    "    print(result)"
   ]
  },
  {
   "cell_type": "code",
   "execution_count": 43,
   "id": "cad29590-df94-4043-b40c-c0c541dff49e",
   "metadata": {},
   "outputs": [
    {
     "name": "stdin",
     "output_type": "stream",
     "text": [
      "Enter the number 52452\n"
     ]
    },
    {
     "name": "stdout",
     "output_type": "stream",
     "text": [
      "Number is even\n"
     ]
    }
   ],
   "source": [
    "numcheck()"
   ]
  },
  {
   "cell_type": "code",
   "execution_count": 59,
   "id": "766a2fdf-3870-4e6a-8cc5-3fc67e2d59da",
   "metadata": {},
   "outputs": [],
   "source": [
    "def marriage_eligibility():\n",
    "    gender = input(\"Enter your gender (Male/Female): \")\n",
    "    age = int(input(\"Enter your age: \"))\n",
    "\n",
    "    print(f\"Your gender is: {gender}\")\n",
    "    print(f\"Your age is: {age}\")\n",
    "\n",
    "    if (gender.lower() == \"male\" and age >= 21) or (gender.lower() == \"female\" and age >= 18):\n",
    "        print(\"You are eligible for marriage.\")\n",
    "    else:\n",
    "        print(\"You are not eligible for marriage.\")"
   ]
  },
  {
   "cell_type": "code",
   "execution_count": 61,
   "id": "8825a14b-dfd1-4c21-bf04-e79d034176f9",
   "metadata": {},
   "outputs": [
    {
     "name": "stdin",
     "output_type": "stream",
     "text": [
      "Enter your gender (Male/Female):  Male\n",
      "Enter your age:  23\n"
     ]
    },
    {
     "name": "stdout",
     "output_type": "stream",
     "text": [
      "Your gender is: Male\n",
      "Your age is: 23\n",
      "You are eligible for marriage.\n"
     ]
    }
   ],
   "source": [
    "marriage_eligibility()"
   ]
  },
  {
   "cell_type": "code",
   "execution_count": 65,
   "id": "e0c452f0-d46e-4fa8-a4f1-1aa299cce809",
   "metadata": {},
   "outputs": [],
   "source": [
    "def calculate_percentage():\n",
    "    Subject1= 98\n",
    "    Subject2= 87\n",
    "    Subject3= 95\n",
    "    Subject4= 95\n",
    "    Subject5= 93\n",
    "    Total = (Subject1+Subject2+Subject3+Subject4+Subject5)\n",
    "    percentage = Total/5\n",
    "    return percentage"
   ]
  },
  {
   "cell_type": "code",
   "execution_count": 66,
   "id": "8a8f2819-b7bd-4c21-974c-7e12f754cee7",
   "metadata": {},
   "outputs": [
    {
     "name": "stdout",
     "output_type": "stream",
     "text": [
      "93.6\n"
     ]
    }
   ],
   "source": [
    "print(calculate_percentage())"
   ]
  },
  {
   "cell_type": "code",
   "execution_count": 73,
   "id": "910cb287-cce8-408f-bd46-d508646977ff",
   "metadata": {},
   "outputs": [],
   "source": [
    "def triangle_program():\n",
    "    height = 32\n",
    "    breadth = 34\n",
    "    area = ((height*breadth)/2)\n",
    "    return area"
   ]
  },
  {
   "cell_type": "code",
   "execution_count": 75,
   "id": "f52ea857-f241-4bd0-9da7-713af351eba7",
   "metadata": {},
   "outputs": [
    {
     "name": "stdout",
     "output_type": "stream",
     "text": [
      "544.0\n"
     ]
    }
   ],
   "source": [
    "print(triangle_program())"
   ]
  },
  {
   "cell_type": "code",
   "execution_count": 80,
   "id": "e48912a8-d2a2-4f28-8319-70b1924c4ec6",
   "metadata": {},
   "outputs": [],
   "source": [
    "def perimeter_triangle():\n",
    "    height1 = 2\n",
    "    height2 = 4\n",
    "    breadth = 4\n",
    "    perimeter = height1+height2+breadth\n",
    "    return perimeter"
   ]
  },
  {
   "cell_type": "code",
   "execution_count": 81,
   "id": "6dd1786e-49eb-40fb-8843-bf134c177f9f",
   "metadata": {},
   "outputs": [
    {
     "name": "stdout",
     "output_type": "stream",
     "text": [
      "10\n"
     ]
    }
   ],
   "source": [
    "print(perimeter_triangle())"
   ]
  },
  {
   "cell_type": "code",
   "execution_count": null,
   "id": "969b993f-028a-4e2e-9f3f-8aecae392b16",
   "metadata": {},
   "outputs": [],
   "source": []
  }
 ],
 "metadata": {
  "kernelspec": {
   "display_name": "Python [conda env:base] *",
   "language": "python",
   "name": "conda-base-py"
  },
  "language_info": {
   "codemirror_mode": {
    "name": "ipython",
    "version": 3
   },
   "file_extension": ".py",
   "mimetype": "text/x-python",
   "name": "python",
   "nbconvert_exporter": "python",
   "pygments_lexer": "ipython3",
   "version": "3.13.5"
  }
 },
 "nbformat": 4,
 "nbformat_minor": 5
}
