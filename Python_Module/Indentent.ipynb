{
 "cells": [
  {
   "cell_type": "code",
   "execution_count": null,
   "id": "31ba729b-149d-4b0d-b33b-8956234687f0",
   "metadata": {},
   "outputs": [],
   "source": [
    "if(condition):\n",
    "    print()\n",
    "else:\n",
    "    print()"
   ]
  },
  {
   "cell_type": "code",
   "execution_count": null,
   "id": "f4cddfef-c5ef-4897-aa89-81a6cfb0e2eb",
   "metadata": {},
   "outputs": [],
   "source": [
    "for temp in range(1,11):\n",
    "    #your code"
   ]
  },
  {
   "cell_type": "code",
   "execution_count": null,
   "id": "5d51d9c4-9638-4906-9e60-d1b85bcf4914",
   "metadata": {},
   "outputs": [],
   "source": [
    "def ():\n",
    "    #Logic "
   ]
  }
 ],
 "metadata": {
  "kernelspec": {
   "display_name": "Python [conda env:base] *",
   "language": "python",
   "name": "conda-base-py"
  },
  "language_info": {
   "codemirror_mode": {
    "name": "ipython",
    "version": 3
   },
   "file_extension": ".py",
   "mimetype": "text/x-python",
   "name": "python",
   "nbconvert_exporter": "python",
   "pygments_lexer": "ipython3",
   "version": "3.13.5"
  }
 },
 "nbformat": 4,
 "nbformat_minor": 5
}
