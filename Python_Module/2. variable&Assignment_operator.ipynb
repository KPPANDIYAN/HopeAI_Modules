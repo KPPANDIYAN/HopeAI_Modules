{
 "cells": [
  {
   "cell_type": "code",
   "execution_count": 2,
   "id": "68aee456-ab02-4a7c-86fb-9c5c7b4ebd19",
   "metadata": {},
   "outputs": [],
   "source": [
    "num1 = 10\n",
    "num2 =30\n",
    "add = num1+num2"
   ]
  },
  {
   "cell_type": "code",
   "execution_count": 8,
   "id": "b49b6fae-b6cb-40b1-8329-348f83d28baf",
   "metadata": {},
   "outputs": [
    {
     "name": "stdout",
     "output_type": "stream",
     "text": [
      "The addition of two numbers is 40\n",
      "40\n"
     ]
    }
   ],
   "source": [
    "num1 = 10\n",
    "num2 =30\n",
    "add = num1+num2\n",
    "print(f\"The addition of two numbers is {add}\")\n",
    "print(add)"
   ]
  },
  {
   "cell_type": "code",
   "execution_count": 15,
   "id": "b349f54d-7a02-44bb-8a97-5b7793d9e659",
   "metadata": {},
   "outputs": [
    {
     "name": "stdin",
     "output_type": "stream",
     "text": [
      "Enter the number1 30\n"
     ]
    }
   ],
   "source": [
    "num1 = int(input(\"Enter the number1\"))\n",
    "             "
   ]
  },
  {
   "cell_type": "code",
   "execution_count": 17,
   "id": "6932eccc-7636-4bb9-a120-de0095f8c1f1",
   "metadata": {},
   "outputs": [
    {
     "name": "stdin",
     "output_type": "stream",
     "text": [
      "Enter the number2 50\n"
     ]
    }
   ],
   "source": [
    "num2 = int(input(\"Enter the number2\"))\n"
   ]
  },
  {
   "cell_type": "code",
   "execution_count": 25,
   "id": "ae7d7062-4c31-491a-a1d1-a4dd09654e3f",
   "metadata": {},
   "outputs": [],
   "source": [
    "add = num1+num2\n"
   ]
  },
  {
   "cell_type": "code",
   "execution_count": 28,
   "id": "388ca5f0-afdb-43df-a5c0-2fb18443851e",
   "metadata": {},
   "outputs": [],
   "source": [
    "mul = 9"
   ]
  },
  {
   "cell_type": "code",
   "execution_count": 29,
   "id": "8aa83588-d63b-4795-b8ca-4ef6dc4585e0",
   "metadata": {},
   "outputs": [
    {
     "name": "stdout",
     "output_type": "stream",
     "text": [
      "80\n",
      "9\n"
     ]
    }
   ],
   "source": [
    "print(add)\n",
    "print(mul)\n"
   ]
  },
  {
   "cell_type": "code",
   "execution_count": null,
   "id": "fa036d9b-8c7a-479b-910c-bdf17fbb4882",
   "metadata": {},
   "outputs": [],
   "source": []
  }
 ],
 "metadata": {
  "kernelspec": {
   "display_name": "Python [conda env:base] *",
   "language": "python",
   "name": "conda-base-py"
  },
  "language_info": {
   "codemirror_mode": {
    "name": "ipython",
    "version": 3
   },
   "file_extension": ".py",
   "mimetype": "text/x-python",
   "name": "python",
   "nbconvert_exporter": "python",
   "pygments_lexer": "ipython3",
   "version": "3.13.5"
  }
 },
 "nbformat": 4,
 "nbformat_minor": 5
}
