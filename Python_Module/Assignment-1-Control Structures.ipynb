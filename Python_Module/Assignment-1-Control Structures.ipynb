{
 "cells": [
  {
   "cell_type": "code",
   "execution_count": 2,
   "id": "1a01cd4c-e234-41bc-83f4-99d2982b3daf",
   "metadata": {},
   "outputs": [
    {
     "name": "stdout",
     "output_type": "stream",
     "text": [
      "Welcome to Assignment-1\n"
     ]
    }
   ],
   "source": [
    "print(\"Welcome to Assignment-1\")"
   ]
  },
  {
   "cell_type": "code",
   "execution_count": 3,
   "id": "b84ce23a-7fcf-43fc-a636-7abf3cc4cdba",
   "metadata": {},
   "outputs": [],
   "source": [
    "num1 = 10\n",
    "num2 =20\n",
    "add = num1+num2"
   ]
  },
  {
   "cell_type": "code",
   "execution_count": 4,
   "id": "19864682-d6a7-4741-9a16-6f991d2c35c2",
   "metadata": {},
   "outputs": [
    {
     "name": "stdout",
     "output_type": "stream",
     "text": [
      "30\n"
     ]
    }
   ],
   "source": [
    "print(add)"
   ]
  },
  {
   "cell_type": "code",
   "execution_count": 20,
   "id": "44016ece-c2ee-4fbb-9991-3575dd0a548e",
   "metadata": {},
   "outputs": [
    {
     "name": "stdin",
     "output_type": "stream",
     "text": [
      "Enter the weight:  31\n"
     ]
    }
   ],
   "source": [
    "BMI_Index = float(input(\"Enter the weight: \"))"
   ]
  },
  {
   "cell_type": "code",
   "execution_count": 21,
   "id": "56da5327-5a39-44a4-86c3-3e26eb2bedbf",
   "metadata": {},
   "outputs": [
    {
     "name": "stdout",
     "output_type": "stream",
     "text": [
      "Obesity (Class 1)\n"
     ]
    }
   ],
   "source": [
    "if (BMI_Index<18.5):\n",
    "    print(\"Underweight\")\n",
    "elif(BMI_Index>=18.5 and BMI_Index<= 24.9):\n",
    "    print(\"Normal weight\")\n",
    "elif(BMI_Index>=25.0 and BMI_Index<= 29.9):\n",
    "    print(\"Over weight\")\n",
    "elif(BMI_Index>=30.0 and BMI_Index<= 34.9):\n",
    "    print(\"Obesity (Class 1)\")\n",
    "elif(BMI_Index>=35.0 and BMI_Index<= 39.9):\n",
    "    print(\"Obesity (Class 2)\")\n",
    "else:\n",
    "    print(\"Extreme obesity\")\n",
    "\n",
    "    \n"
   ]
  },
  {
   "cell_type": "code",
   "execution_count": null,
   "id": "7362d609-3c2f-485c-86fd-d41cef8d0799",
   "metadata": {},
   "outputs": [],
   "source": []
  },
  {
   "cell_type": "code",
   "execution_count": null,
   "id": "68fcccd5-acb1-49da-bbe4-117999b0e362",
   "metadata": {},
   "outputs": [],
   "source": []
  }
 ],
 "metadata": {
  "kernelspec": {
   "display_name": "Python [conda env:base] *",
   "language": "python",
   "name": "conda-base-py"
  },
  "language_info": {
   "codemirror_mode": {
    "name": "ipython",
    "version": 3
   },
   "file_extension": ".py",
   "mimetype": "text/x-python",
   "name": "python",
   "nbconvert_exporter": "python",
   "pygments_lexer": "ipython3",
   "version": "3.13.5"
  }
 },
 "nbformat": 4,
 "nbformat_minor": 5
}
