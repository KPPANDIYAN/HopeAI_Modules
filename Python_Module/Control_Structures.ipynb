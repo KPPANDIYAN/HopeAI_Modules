{
 "cells": [
  {
   "cell_type": "code",
   "execution_count": 1,
   "id": "02c5f3d5-f640-4422-ba34-f1e203f26a90",
   "metadata": {},
   "outputs": [],
   "source": [
    "if():\n",
    "    print()"
   ]
  },
  {
   "cell_type": "code",
   "execution_count": 2,
   "id": "89a7707d-13cc-4285-bc11-a30caffec4c4",
   "metadata": {},
   "outputs": [],
   "source": [
    "#if-else"
   ]
  },
  {
   "cell_type": "code",
   "execution_count": 3,
   "id": "27723c1c-902e-4ee4-acc5-5fce74f5b8a1",
   "metadata": {},
   "outputs": [
    {
     "name": "stdin",
     "output_type": "stream",
     "text": [
      "Enter the age : 18\n"
     ]
    }
   ],
   "source": [
    "age = int(input(\"Enter the age :\"))"
   ]
  },
  {
   "cell_type": "code",
   "execution_count": 4,
   "id": "4dc5ea62-59fe-4557-aa4f-758e161e458b",
   "metadata": {},
   "outputs": [
    {
     "name": "stdout",
     "output_type": "stream",
     "text": [
      "Adult\n"
     ]
    }
   ],
   "source": [
    "if(age == 18):\n",
    "    print(\"Adult\")"
   ]
  },
  {
   "cell_type": "code",
   "execution_count": 5,
   "id": "4ce9299e-ad88-40f8-80e5-b71d32173a07",
   "metadata": {},
   "outputs": [
    {
     "name": "stdin",
     "output_type": "stream",
     "text": [
      "Enter the age : 17\n"
     ]
    }
   ],
   "source": [
    "age = int(input(\"Enter the age :\"))"
   ]
  },
  {
   "cell_type": "code",
   "execution_count": 6,
   "id": "d5ca3204-4797-4e36-b89e-c9ee94175168",
   "metadata": {},
   "outputs": [
    {
     "name": "stdout",
     "output_type": "stream",
     "text": [
      "Child\n"
     ]
    }
   ],
   "source": [
    "if(age<18):\n",
    "    print(\"Child\")\n",
    "else:\n",
    "    print(\"Adult\")\n",
    "    \n",
    "    \n"
   ]
  },
  {
   "cell_type": "code",
   "execution_count": null,
   "id": "9975ec84-de1a-490f-9912-b0adccd0cbb8",
   "metadata": {},
   "outputs": [],
   "source": [
    "#if -elif\n",
    "if():\n",
    "    print()\n",
    "elif:\n",
    "    print()\n",
    "elif:\n",
    "    print()\n",
    "else:\n",
    "    print()"
   ]
  },
  {
   "cell_type": "markdown",
   "id": "6f4c8fb7-5fb4-4135-9d0f-d07e82167522",
   "metadata": {},
   "source": [
    "age<18 -- children\n",
    "age< -- adult\n",
    "age <59 -- citizen\n",
    "age > 59 --- senior citizen\n"
   ]
  },
  {
   "cell_type": "code",
   "execution_count": 15,
   "id": "99412387-6bf5-43d2-8386-ffb2afef2332",
   "metadata": {},
   "outputs": [
    {
     "name": "stdin",
     "output_type": "stream",
     "text": [
      "Enter the age : 60\n"
     ]
    }
   ],
   "source": [
    "age = int(input(\"Enter the age :\"))"
   ]
  },
  {
   "cell_type": "code",
   "execution_count": 16,
   "id": "f3ea07e9-39c8-4707-a33f-5b975eb099fd",
   "metadata": {},
   "outputs": [
    {
     "name": "stdout",
     "output_type": "stream",
     "text": [
      "senior citizen\n"
     ]
    }
   ],
   "source": [
    "if(age<18):\n",
    "    print(\"children\")\n",
    "elif(age<35):\n",
    "    print(\"Adult\")\n",
    "elif(age<59):\n",
    "    print(\"citizen\")\n",
    "else:\n",
    "    print(\"senior citizen\")"
   ]
  },
  {
   "cell_type": "code",
   "execution_count": null,
   "id": "fc3cf9ce-b481-4507-a8be-3073826234c8",
   "metadata": {},
   "outputs": [],
   "source": [
    "#for loop"
   ]
  },
  {
   "cell_type": "code",
   "execution_count": 17,
   "id": "b3c7e49f-19df-4108-9a44-b6b89c3ef82e",
   "metadata": {},
   "outputs": [],
   "source": [
    "lists=[23,45,67,89,34]"
   ]
  },
  {
   "cell_type": "code",
   "execution_count": 18,
   "id": "596dd364-0eb6-48ef-a191-1533285b55a4",
   "metadata": {},
   "outputs": [
    {
     "name": "stdout",
     "output_type": "stream",
     "text": [
      "23\n",
      "45\n",
      "67\n",
      "89\n",
      "34\n"
     ]
    }
   ],
   "source": [
    "for temp in lists:\n",
    "    print(temp)"
   ]
  },
  {
   "cell_type": "code",
   "execution_count": 19,
   "id": "e44daf39-fb0a-488c-8df9-47e090a286b6",
   "metadata": {},
   "outputs": [
    {
     "name": "stdout",
     "output_type": "stream",
     "text": [
      "Adult\n",
      "citizen\n",
      "senior citizen\n",
      "senior citizen\n",
      "Adult\n"
     ]
    }
   ],
   "source": [
    "for age in lists:\n",
    "    if(age<18):\n",
    "        print(\"children\")\n",
    "    elif(age<35):\n",
    "        print(\"Adult\")\n",
    "    elif(age<59):\n",
    "        print(\"citizen\")\n",
    "    else:\n",
    "        print(\"senior citizen\")\n",
    "    "
   ]
  },
  {
   "cell_type": "code",
   "execution_count": 20,
   "id": "91e7a1e1-4f49-47e7-acb2-56596001d350",
   "metadata": {},
   "outputs": [
    {
     "name": "stdin",
     "output_type": "stream",
     "text": [
      "Enter the number 5\n"
     ]
    },
    {
     "name": "stdout",
     "output_type": "stream",
     "text": [
      "odd\n"
     ]
    }
   ],
   "source": [
    "num = int(input(\"Enter the number\"))\n",
    "if(num%2 == 0):\n",
    "    print(\"Even\")\n",
    "else:\n",
    "    print(\"odd\")"
   ]
  },
  {
   "cell_type": "code",
   "execution_count": 21,
   "id": "411309bf-0e50-4458-af25-37e8b8254a8d",
   "metadata": {},
   "outputs": [
    {
     "name": "stdin",
     "output_type": "stream",
     "text": [
      "Enter the number 5\n"
     ]
    },
    {
     "name": "stdout",
     "output_type": "stream",
     "text": [
      "odd\n"
     ]
    }
   ],
   "source": [
    "\n",
    "num = int(input(\"Enter the number\"))\n",
    "if(num%2 == 1):\n",
    "    print(\"odd\")\n",
    "else:\n",
    "    print(\"even\")"
   ]
  },
  {
   "cell_type": "code",
   "execution_count": 22,
   "id": "34a98ea2-8428-43b0-889b-d12f10c59850",
   "metadata": {},
   "outputs": [
    {
     "data": {
      "text/plain": [
       "range(0, 10)"
      ]
     },
     "execution_count": 22,
     "metadata": {},
     "output_type": "execute_result"
    }
   ],
   "source": [
    "range(0,10)"
   ]
  },
  {
   "cell_type": "code",
   "execution_count": 23,
   "id": "273814ce-0f05-47f2-b4e6-862adb52e2d3",
   "metadata": {},
   "outputs": [
    {
     "name": "stdout",
     "output_type": "stream",
     "text": [
      "range(0, 10)\n"
     ]
    }
   ],
   "source": [
    "print(range(0, 10))"
   ]
  },
  {
   "cell_type": "code",
   "execution_count": 26,
   "id": "98bbf432-c7ee-4563-9613-762dac10d41b",
   "metadata": {},
   "outputs": [
    {
     "name": "stdout",
     "output_type": "stream",
     "text": [
      "0 1 2 3 4 5 6 7 8 9 "
     ]
    }
   ],
   "source": [
    "for num in range(0,10):\n",
    "    print(num, end = \" \")"
   ]
  },
  {
   "cell_type": "code",
   "execution_count": 27,
   "id": "ccd7853c-c6ee-4bce-b049-3232c363c18f",
   "metadata": {},
   "outputs": [
    {
     "name": "stdout",
     "output_type": "stream",
     "text": [
      "20 22 24 26 28 "
     ]
    }
   ],
   "source": [
    "for num in range(20,30,2):\n",
    "    print(num, end = \" \")"
   ]
  },
  {
   "cell_type": "code",
   "execution_count": null,
   "id": "af34cea7-1a44-4735-8d91-7af21c648c4c",
   "metadata": {},
   "outputs": [],
   "source": [
    "lists=[23,45,67,89,34]"
   ]
  },
  {
   "cell_type": "code",
   "execution_count": 30,
   "id": "b6d8e08d-4722-41fa-bc31-67876cee09fb",
   "metadata": {},
   "outputs": [],
   "source": [
    "def ageCategory():\n",
    "    for age in lists:\n",
    "        if(age<18):\n",
    "            print(\"children\")\n",
    "        elif(age<35):\n",
    "            print(\"Adult\")\n",
    "        elif(age<59):\n",
    "            print(\"citizen\")\n",
    "        else:\n",
    "            print(\"senior citizen\")\n",
    "        "
   ]
  },
  {
   "cell_type": "code",
   "execution_count": 31,
   "id": "4ca4be64-b662-466f-9f0f-7399a33a04d6",
   "metadata": {},
   "outputs": [
    {
     "name": "stdout",
     "output_type": "stream",
     "text": [
      "Adult\n",
      "citizen\n",
      "senior citizen\n",
      "senior citizen\n",
      "Adult\n"
     ]
    }
   ],
   "source": [
    "ageCategory()"
   ]
  },
  {
   "cell_type": "code",
   "execution_count": 3,
   "id": "e4240be2-692d-411d-9fa3-9363db5bafb5",
   "metadata": {},
   "outputs": [
    {
     "name": "stdin",
     "output_type": "stream",
     "text": [
      "enter the age 45\n"
     ]
    }
   ],
   "source": [
    "age = int(input(\"enter the age\"))"
   ]
  },
  {
   "cell_type": "code",
   "execution_count": 4,
   "id": "17cda602-8cf7-45f8-a155-7c8470627a5b",
   "metadata": {},
   "outputs": [],
   "source": [
    "def ageCategory():    \n",
    "    if(age<18):\n",
    "        print(\"children\")\n",
    "        cate = \"children\"\n",
    "    elif(age<35):\n",
    "        print(\"Adult\")\n",
    "        cate = \"Adult\"\n",
    "    elif(age<59):\n",
    "        print(\"citizen\")\n",
    "        cate = \"citizen\"\n",
    "    else:\n",
    "        print(\"senior citizen\")\n",
    "        cate = \"senior citizen\"\n",
    "    return cate"
   ]
  },
  {
   "cell_type": "code",
   "execution_count": 5,
   "id": "13c8e803-f035-49df-951f-a252612de10c",
   "metadata": {},
   "outputs": [
    {
     "name": "stdout",
     "output_type": "stream",
     "text": [
      "citizen\n"
     ]
    },
    {
     "data": {
      "text/plain": [
       "'citizen'"
      ]
     },
     "execution_count": 5,
     "metadata": {},
     "output_type": "execute_result"
    }
   ],
   "source": [
    "ageCategory()"
   ]
  },
  {
   "cell_type": "code",
   "execution_count": null,
   "id": "dfb2ac9d-d51b-4652-9bee-aad795d45d6d",
   "metadata": {},
   "outputs": [],
   "source": []
  }
 ],
 "metadata": {
  "kernelspec": {
   "display_name": "Python [conda env:base] *",
   "language": "python",
   "name": "conda-base-py"
  },
  "language_info": {
   "codemirror_mode": {
    "name": "ipython",
    "version": 3
   },
   "file_extension": ".py",
   "mimetype": "text/x-python",
   "name": "python",
   "nbconvert_exporter": "python",
   "pygments_lexer": "ipython3",
   "version": "3.13.5"
  }
 },
 "nbformat": 4,
 "nbformat_minor": 5
}
